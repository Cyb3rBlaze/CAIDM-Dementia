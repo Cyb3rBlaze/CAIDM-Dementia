{
 "cells": [
  {
   "cell_type": "markdown",
   "metadata": {},
   "source": [
    "# Dementia Evaluation\n",
    "\n",
    "This notebook is used to evaluate the trained models."
   ]
  },
  {
   "cell_type": "code",
   "execution_count": 1,
   "metadata": {},
   "outputs": [],
   "source": [
    "import os, random, time, numpy as np, pandas as pd\n",
    "import matplotlib.pyplot as plt\n",
    "import tensorflow as tf\n",
    "from tensorflow import losses, optimizers, metrics\n",
    "from tensorflow.keras import Input, Model, layers, callbacks, regularizers, models\n",
    "from jarvis.train import custom, datasets, params\n",
    "from jarvis.train.client import Client\n",
    "from jarvis.utils.general import gpus, overload, tools as jtools\n",
    "from jarvis.utils.display import imshow\n",
    "from sklearn.metrics import classification_report, roc_auc_score, roc_curve, confusion_matrix"
   ]
  },
  {
   "cell_type": "code",
   "execution_count": 69,
   "metadata": {},
   "outputs": [],
   "source": [
    "# --- Load contrastive model\n",
    "model = models.load_model(\"/home/mmorelan/proj/dementia/train/raw/21/01/model.hdf5\", compile=False)"
   ]
  },
  {
   "cell_type": "code",
   "execution_count": 70,
   "metadata": {},
   "outputs": [
    {
     "name": "stdout",
     "output_type": "stream",
     "text": [
      "Model: \"model\"\n",
      "_________________________________________________________________\n",
      "Layer (type)                 Output Shape              Param #   \n",
      "=================================================================\n",
      "dat (InputLayer)             [(None, 96, 160, 160, 1)] 0         \n",
      "_________________________________________________________________\n",
      "zero_padding3d (ZeroPadding3 (None, 160, 160, 160, 1)  0         \n",
      "_________________________________________________________________\n",
      "conv3d (Conv3D)              (None, 39, 39, 39, 64)    22016     \n",
      "_________________________________________________________________\n",
      "max_pooling3d (MaxPooling3D) (None, 19, 19, 19, 64)    0         \n",
      "_________________________________________________________________\n",
      "conv3d_1 (Conv3D)            (None, 13, 13, 13, 128)   2809984   \n",
      "_________________________________________________________________\n",
      "max_pooling3d_1 (MaxPooling3 (None, 6, 6, 6, 128)      0         \n",
      "_________________________________________________________________\n",
      "conv3d_2 (Conv3D)            (None, 1, 1, 1, 512)      14156288  \n",
      "_________________________________________________________________\n",
      "conv3d_3 (Conv3D)            (None, 1, 1, 1, 1)        513       \n",
      "_________________________________________________________________\n",
      "reshape (Reshape)            (None, 1)                 0         \n",
      "=================================================================\n",
      "Total params: 16,988,801\n",
      "Trainable params: 16,988,801\n",
      "Non-trainable params: 0\n",
      "_________________________________________________________________\n"
     ]
    }
   ],
   "source": [
    "model.summary()"
   ]
  },
  {
   "cell_type": "code",
   "execution_count": 3,
   "metadata": {},
   "outputs": [],
   "source": [
    "# --- Initialize client\n",
    "CLIENT_PATH = '/home/mmorelan/proj/dementia/yml/client-3d-raw_AV45.yml'\n",
    "\n",
    "client = Client(CLIENT_PATH, configs={'batch': {'fold': 0}})"
   ]
  },
  {
   "cell_type": "code",
   "execution_count": 36,
   "metadata": {},
   "outputs": [],
   "source": [
    "# --- Create validation generator\n",
    "test_train, test_valid = client.create_generators(test=True)"
   ]
  },
  {
   "cell_type": "code",
   "execution_count": 37,
   "metadata": {},
   "outputs": [
    {
     "name": "stdout",
     "output_type": "stream",
     "text": [
      "[ 2021-09-17 17:18:42 ] [====================] 100.000% : Iterating | 000300    "
     ]
    }
   ],
   "source": [
    "# --- Aggregate all examples\n",
    "xs = []\n",
    "ys = []\n",
    "\n",
    "for x, y in test_valid:\n",
    "    \n",
    "    xs.append(x['dat'])\n",
    "    ys.append(y['lbl'])\n",
    "\n",
    "xs = np.concatenate(xs)\n",
    "ys = np.concatenate(ys)\n",
    "\n",
    "xs_1 = xs[ys == 1]\n",
    "xs_0 = xs[ys == 0][:len(xs_1)]\n",
    "\n",
    "xs = np.concatenate([xs_0, xs_1])"
   ]
  },
  {
   "cell_type": "code",
   "execution_count": 42,
   "metadata": {},
   "outputs": [],
   "source": [
    "ys_1 = ys[ys == 1]\n",
    "ys_0 = ys[ys == 0][:len(ys_1)]\n",
    "\n",
    "ys = np.concatenate([ys_0, ys_1])"
   ]
  },
  {
   "cell_type": "code",
   "execution_count": 59,
   "metadata": {},
   "outputs": [],
   "source": [
    "# --- Predict\n",
    "logits = model.predict(xs)\n",
    "\n",
    "if type(logits) is dict:\n",
    "    logits = logits['lbl']"
   ]
  },
  {
   "cell_type": "code",
   "execution_count": 68,
   "metadata": {},
   "outputs": [
    {
     "name": "stdout",
     "output_type": "stream",
     "text": [
      "0.803921568627451\n",
      "              precision    recall  f1-score   support\n",
      "\n",
      "           0       0.82      0.78      0.80        51\n",
      "           1       0.79      0.82      0.81        51\n",
      "\n",
      "    accuracy                           0.80       102\n",
      "   macro avg       0.80      0.80      0.80       102\n",
      "weighted avg       0.80      0.80      0.80       102\n",
      "\n",
      "ROC: 0.8039215686274509\n"
     ]
    },
    {
     "data": {
      "image/png": "[encoded data removed]",
      "text/plain": [
       "<Figure size 432x288 with 1 Axes>"
      ]
     },
     "metadata": {
      "needs_background": "light"
     },
     "output_type": "display_data"
    },
    {
     "data": {
      "text/plain": [
       "array([[40, 11],\n",
       "       [ 9, 42]])"
      ]
     },
     "execution_count": 68,
     "metadata": {},
     "output_type": "execute_result"
    }
   ],
   "source": [
    "pred = logits > 0.3\n",
    "\n",
    "df = pd.DataFrame(index=np.arange(logits.size))\n",
    "\n",
    "# --- Define columns\n",
    "df['true'] = np.squeeze(ys)\n",
    "df['pred'] = np.squeeze(pred)\n",
    "df['corr'] = df['true'] == df['pred']\n",
    "\n",
    "# --- Print accuracy\n",
    "print(df['corr'].mean())\n",
    "print(classification_report(y_true=df['true'], y_pred=df['pred']))\n",
    "\n",
    "print(\"ROC:\", roc_auc_score(df['true'], df['pred']))\n",
    "fpr, tpr, thresholds = roc_curve(df['true'],df['pred'])\n",
    "plt.plot([0,1], [0,1], linestyle='--')\n",
    "plt.plot(fpr, tpr, linestyle='--')\n",
    "plt.xlabel('False Positive Rate')\n",
    "plt.ylabel('True Positive Rate')\n",
    "plt.show()\n",
    "\n",
    "confusion_matrix(df['true'], df['pred'])"
   ]
  },
  {
   "cell_type": "code",
   "execution_count": 54,
   "metadata": {},
   "outputs": [
    {
     "name": "stdout",
     "output_type": "stream",
     "text": [
      "0.8235294117647058\n",
      "              precision    recall  f1-score   support\n",
      "\n",
      "           0       0.87      0.76      0.81        51\n",
      "           1       0.79      0.88      0.83        51\n",
      "\n",
      "    accuracy                           0.82       102\n",
      "   macro avg       0.83      0.82      0.82       102\n",
      "weighted avg       0.83      0.82      0.82       102\n",
      "\n",
      "ROC: 0.8235294117647058\n"
     ]
    },
    {
     "data": {
      "image/png": "[encoded data removed]",
      "text/plain": [
       "<Figure size 432x288 with 1 Axes>"
      ]
     },
     "metadata": {
      "needs_background": "light"
     },
     "output_type": "display_data"
    },
    {
     "data": {
      "text/plain": [
       "array([[39, 12],\n",
       "       [ 6, 45]])"
      ]
     },
     "execution_count": 54,
     "metadata": {},
     "output_type": "execute_result"
    }
   ],
   "source": [
    "pred = logits > 0.5\n",
    "\n",
    "df = pd.DataFrame(index=np.arange(logits.size))\n",
    "\n",
    "# --- Define columns\n",
    "df['true'] = np.squeeze(ys)\n",
    "df['pred'] = np.squeeze(pred)\n",
    "df['corr'] = df['true'] == df['pred']\n",
    "\n",
    "# --- Print accuracy\n",
    "print(df['corr'].mean())\n",
    "print(classification_report(y_true=df['true'], y_pred=df['pred']))\n",
    "\n",
    "print(\"ROC:\", roc_auc_score(df['true'], df['pred']))\n",
    "fpr, tpr, thresholds = roc_curve(df['true'],df['pred'])\n",
    "plt.plot([0,1], [0,1], linestyle='--')\n",
    "plt.plot(fpr, tpr, linestyle='--')\n",
    "plt.xlabel('False Positive Rate')\n",
    "plt.ylabel('True Positive Rate')\n",
    "plt.show()\n",
    "\n",
    "confusion_matrix(df['true'], df['pred'])"
   ]
  },
  {
   "cell_type": "code",
   "execution_count": 281,
   "metadata": {},
   "outputs": [
    {
     "name": "stdout",
     "output_type": "stream",
     "text": [
      "0.7933333333333333\n",
      "              precision    recall  f1-score   support\n",
      "\n",
      "           0       0.96      0.79      0.86       249\n",
      "           1       0.44      0.82      0.58        51\n",
      "\n",
      "    accuracy                           0.79       300\n",
      "   macro avg       0.70      0.81      0.72       300\n",
      "weighted avg       0.87      0.79      0.81       300\n",
      "\n",
      "ROC: 0.805339003071108\n"
     ]
    },
    {
     "data": {
      "image/png": "[encoded data removed]",
      "text/plain": [
       "<Figure size 432x288 with 1 Axes>"
      ]
     },
     "metadata": {
      "needs_background": "light"
     },
     "output_type": "display_data"
    },
    {
     "data": {
      "text/plain": [
       "array([[196,  53],\n",
       "       [  9,  42]])"
      ]
     },
     "execution_count": 281,
     "metadata": {},
     "output_type": "execute_result"
    }
   ],
   "source": [
    "pred = logits > 0.5\n",
    "\n",
    "df = pd.DataFrame(index=np.arange(logits.size))\n",
    "\n",
    "# --- Define columns\n",
    "df['true'] = np.squeeze(ys)\n",
    "df['pred'] = np.squeeze(pred)\n",
    "df['corr'] = df['true'] == df['pred']\n",
    "\n",
    "# --- Print accuracy\n",
    "print(df['corr'].mean())\n",
    "print(classification_report(y_true=df['true'], y_pred=df['pred']))\n",
    "\n",
    "print(\"ROC:\", roc_auc_score(df['true'], df['pred']))\n",
    "fpr, tpr, thresholds = roc_curve(df['true'],df['pred'])\n",
    "plt.plot([0,1], [0,1], linestyle='--')\n",
    "plt.plot(fpr, tpr, linestyle='--')\n",
    "plt.xlabel('False Positive Rate')\n",
    "plt.ylabel('True Positive Rate')\n",
    "plt.show()\n",
    "\n",
    "confusion_matrix(df['true'], df['pred'])"
   ]
  },
  {
   "cell_type": "code",
   "execution_count": 263,
   "metadata": {},
   "outputs": [
    {
     "name": "stdout",
     "output_type": "stream",
     "text": [
      "0.9166666666666666\n",
      "              precision    recall  f1-score   support\n",
      "\n",
      "           0       0.94      0.96      0.95       249\n",
      "           1       0.78      0.71      0.74        51\n",
      "\n",
      "    accuracy                           0.92       300\n",
      "   macro avg       0.86      0.83      0.85       300\n",
      "weighted avg       0.91      0.92      0.91       300\n",
      "\n",
      "ROC: 0.8328608551854477\n"
     ]
    },
    {
     "data": {
      "image/png": "[encoded data removed]",
      "text/plain": [
       "<Figure size 432x288 with 1 Axes>"
      ]
     },
     "metadata": {
      "needs_background": "light"
     },
     "output_type": "display_data"
    },
    {
     "data": {
      "text/plain": [
       "array([[239,  10],\n",
       "       [ 15,  36]])"
      ]
     },
     "execution_count": 263,
     "metadata": {},
     "output_type": "execute_result"
    }
   ],
   "source": [
    "# 21/01\n",
    "pred = logits > 0.7\n",
    "\n",
    "df = pd.DataFrame(index=np.arange(logits.size))\n",
    "\n",
    "# --- Define columns\n",
    "df['true'] = np.squeeze(ys)\n",
    "df['pred'] = np.squeeze(pred)\n",
    "df['corr'] = df['true'] == df['pred']\n",
    "\n",
    "# --- Print accuracy\n",
    "print(df['corr'].mean())\n",
    "print(classification_report(y_true=df['true'], y_pred=df['pred']))\n",
    "\n",
    "print(\"ROC:\", roc_auc_score(df['true'], df['pred']))\n",
    "fpr, tpr, thresholds = roc_curve(df['true'],df['pred'])\n",
    "plt.plot([0,1], [0,1], linestyle='--')\n",
    "plt.plot(fpr, tpr, linestyle='--')\n",
    "plt.xlabel('False Positive Rate')\n",
    "plt.ylabel('True Positive Rate')\n",
    "plt.show()\n",
    "\n",
    "confusion_matrix(df['true'], df['pred'])"
   ]
  },
  {
   "cell_type": "code",
   "execution_count": 239,
   "metadata": {},
   "outputs": [
    {
     "name": "stdout",
     "output_type": "stream",
     "text": [
      "0.8566666666666667\n",
      "              precision    recall  f1-score   support\n",
      "\n",
      "           0       0.96      0.87      0.91       249\n",
      "           1       0.55      0.80      0.66        51\n",
      "\n",
      "    accuracy                           0.86       300\n",
      "   macro avg       0.75      0.84      0.78       300\n",
      "weighted avg       0.89      0.86      0.87       300\n",
      "\n",
      "ROC: 0.8356957240727617\n"
     ]
    }
   ],
   "source": [
    "pred = logits > 0.7\n",
    "\n",
    "df = pd.DataFrame(index=np.arange(logits.size))\n",
    "\n",
    "# --- Define columns\n",
    "df['true'] = np.squeeze(ys)\n",
    "df['pred'] = np.squeeze(pred)\n",
    "df['corr'] = df['true'] == df['pred']\n",
    "\n",
    "# --- Print accuracy\n",
    "print(df['corr'].mean())\n",
    "print(classification_report(y_true=df['true'], y_pred=df['pred']))\n",
    "print(\"ROC:\", roc_auc_score(df['true'], df['pred']))"
   ]
  },
  {
   "cell_type": "code",
   "execution_count": 198,
   "metadata": {},
   "outputs": [
    {
     "name": "stdout",
     "output_type": "stream",
     "text": [
      "0.890881913303438\n",
      "              precision    recall  f1-score   support\n",
      "\n",
      "           0       0.91      0.94      0.93       494\n",
      "           1       0.82      0.74      0.78       175\n",
      "\n",
      "    accuracy                           0.89       669\n",
      "   macro avg       0.87      0.84      0.85       669\n",
      "weighted avg       0.89      0.89      0.89       669\n",
      "\n",
      "ROC: 0.8430884904569115\n"
     ]
    }
   ],
   "source": [
    "pred = logits > 0.7\n",
    "\n",
    "df = pd.DataFrame(index=np.arange(logits.size))\n",
    "\n",
    "# --- Define columns\n",
    "df['true'] = np.squeeze(ys)\n",
    "df['pred'] = np.squeeze(pred)\n",
    "df['corr'] = df['true'] == df['pred']\n",
    "\n",
    "# --- Print accuracy\n",
    "print(df['corr'].mean())\n",
    "print(classification_report(y_true=df['true'], y_pred=df['pred']))\n",
    "print(\"ROC:\", roc_auc_score(df['true'], df['pred']))"
   ]
  },
  {
   "cell_type": "code",
   "execution_count": 183,
   "metadata": {},
   "outputs": [
    {
     "name": "stdout",
     "output_type": "stream",
     "text": [
      "0.8933333333333333\n",
      "              precision    recall  f1-score   support\n",
      "\n",
      "           0       0.92      0.95      0.94       249\n",
      "           1       0.72      0.61      0.66        51\n",
      "\n",
      "    accuracy                           0.89       300\n",
      "   macro avg       0.82      0.78      0.80       300\n",
      "weighted avg       0.89      0.89      0.89       300\n",
      "\n"
     ]
    }
   ],
   "source": [
    "df = pd.DataFrame(index=np.arange(logits.size))\n",
    "\n",
    "# --- Define columns\n",
    "df['true'] = np.squeeze(ys)\n",
    "df['pred'] = np.squeeze(pred)\n",
    "df['corr'] = df['true'] == df['pred']\n",
    "\n",
    "# --- Print accuracy\n",
    "print(df['corr'].mean())\n",
    "print(classification_report(y_true=df['true'], y_pred=df['pred']))\n",
    "print(roc_auc_score(df['true'], df['pred']))"
   ]
  },
  {
   "cell_type": "code",
   "execution_count": 112,
   "metadata": {},
   "outputs": [
    {
     "name": "stdout",
     "output_type": "stream",
     "text": [
      "0.8535127055306427\n",
      "              precision    recall  f1-score   support\n",
      "\n",
      "           0       0.90      0.90      0.90       494\n",
      "           1       0.72      0.73      0.72       175\n",
      "\n",
      "    accuracy                           0.85       669\n",
      "   macro avg       0.81      0.81      0.81       669\n",
      "weighted avg       0.85      0.85      0.85       669\n",
      "\n"
     ]
    }
   ],
   "source": [
    "df = pd.DataFrame(index=np.arange(logits.size))\n",
    "\n",
    "# --- Define columns\n",
    "df['true'] = np.squeeze(ys)\n",
    "df['pred'] = np.squeeze(pred)\n",
    "df['corr'] = df['true'] == df['pred']\n",
    "\n",
    "# --- Print accuracy\n",
    "print(df['corr'].mean())\n",
    "print(classification_report(y_true=df['true'], y_pred=df['pred']))"
   ]
  },
  {
   "cell_type": "code",
   "execution_count": null,
   "metadata": {},
   "outputs": [],
   "source": []
  }
 ],
 "metadata": {
  "kernelspec": {
   "display_name": "Python 3",
   "language": "python",
   "name": "python3"
  },
  "language_info": {
   "codemirror_mode": {
    "name": "ipython",
    "version": 3
   },
   "file_extension": ".py",
   "mimetype": "text/x-python",
   "name": "python",
   "nbconvert_exporter": "python",
   "pygments_lexer": "ipython3",
   "version": "3.8.5"
  }
 },
 "nbformat": 4,
 "nbformat_minor": 4
}
