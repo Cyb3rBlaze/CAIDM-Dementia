{
 "cells": [
  {
   "cell_type": "markdown",
   "metadata": {},
   "source": [
    "# Dementia Evaluation"
   ]
  },
  {
   "cell_type": "code",
   "execution_count": 6,
   "metadata": {},
   "outputs": [],
   "source": [
    "import os, random, time, numpy as np, pandas as pd\n",
    "import tensorflow as tf\n",
    "import tensorflow.keras.backend as K\n",
    "from tensorflow import losses, optimizers, metrics\n",
    "from tensorflow.keras import Input, Model, layers, callbacks, regularizers, models\n",
    "from jarvis.train import custom, datasets, params\n",
    "from jarvis.train.client import Client\n",
    "from jarvis.utils.general import gpus, overload, tools as jtools"
   ]
  },
  {
   "cell_type": "code",
   "execution_count": 7,
   "metadata": {},
   "outputs": [],
   "source": [
    "# --- Initialize client\n",
    "client = Client('/home/mmorelan/proj/dementia/yml/client-3d-96x128.yml', configs={'batch': {'fold': 0}})"
   ]
  },
  {
   "cell_type": "code",
   "execution_count": 8,
   "metadata": {},
   "outputs": [],
   "source": [
    "# --- Load contrastive model\n",
    "model = models.load_model(\"/home/mmorelan/proj/dementia/train/96x128/01/01/model.hdf5\", compile=False)"
   ]
  },
  {
   "cell_type": "code",
   "execution_count": 9,
   "metadata": {},
   "outputs": [],
   "source": [
    "# --- Extract autoencoder model from contrastive model\n",
    "enc_model = model.layers[4]"
   ]
  },
  {
   "cell_type": "code",
   "execution_count": 11,
   "metadata": {},
   "outputs": [],
   "source": [
    "# --- Create validation generator\n",
    "test_train, test_valid = client.create_generators(test=True)"
   ]
  },
  {
   "cell_type": "code",
   "execution_count": 12,
   "metadata": {},
   "outputs": [
    {
     "name": "stdout",
     "output_type": "stream",
     "text": [
      "[ 2021-08-01 13:13:45 ] [====================] 100.000% : Iterating | 000669    "
     ]
    }
   ],
   "source": [
    "# --- Aggregate all examples\n",
    "xs = []\n",
    "ys = []\n",
    "\n",
    "for x, y in test_valid:\n",
    "    xs.append(x['dat'])\n",
    "    ys.append(y['lbl'])\n",
    "\n",
    "xs = np.concatenate(xs)\n",
    "ys = np.concatenate(ys)"
   ]
  },
  {
   "cell_type": "code",
   "execution_count": 13,
   "metadata": {},
   "outputs": [],
   "source": [
    "# --- Predict\n",
    "logits = enc_model.predict(xs)"
   ]
  },
  {
   "cell_type": "code",
   "execution_count": 14,
   "metadata": {},
   "outputs": [
    {
     "name": "stdout",
     "output_type": "stream",
     "text": [
      "Accuracy: 0.5575485799701047\n"
     ]
    }
   ],
   "source": [
    "# --- Calculate metrics\n",
    "if type(logits) is dict:\n",
    "    logits = logits['lbl']\n",
    "\n",
    "# --- Binarize probability predictions using a 0.5 threshold\n",
    "pred = logits[2]\n",
    "pred[pred < 0.5] = 0\n",
    "pred[pred >= 0.5] = 1\n",
    "\n",
    "df = pd.DataFrame()\n",
    "df['pred'] = np.squeeze(pred)\n",
    "df['true'] = np.squeeze(ys)\n",
    "df['corr'] = df['pred'] == df['true']\n",
    "\n",
    "print(\"Accuracy:\", df['corr'].mean())"
   ]
  },
  {
   "cell_type": "code",
   "execution_count": null,
   "metadata": {},
   "outputs": [],
   "source": []
  }
 ],
 "metadata": {
  "kernelspec": {
   "display_name": "Python 3",
   "language": "python",
   "name": "python3"
  },
  "language_info": {
   "codemirror_mode": {
    "name": "ipython",
    "version": 3
   },
   "file_extension": ".py",
   "mimetype": "text/x-python",
   "name": "python",
   "nbconvert_exporter": "python",
   "pygments_lexer": "ipython3",
   "version": "3.6.12"
  }
 },
 "nbformat": 4,
 "nbformat_minor": 4
}
